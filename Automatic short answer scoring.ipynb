{
 "cells": [
  {
   "cell_type": "markdown",
   "metadata": {},
   "source": [
    "# Automatic short answers scoring - Nouran Muhammad\n",
    "\n",
    "# Table of Contents\n",
    "1- [Import Libraries](#1)<br>\n",
    "2- [Data Exploration](#2)<br>\n",
    "3- [Data Preparation](#3)<br>\n",
    "4- [Feature Extraction](#4)<br>\n",
    "5- [Score Prediction](#5)<br>"
   ]
  },
  {
   "cell_type": "markdown",
   "metadata": {},
   "source": [
    "## Import Libraries\n",
    "<a id='1'><a>"
   ]
  },
  {
   "cell_type": "code",
   "execution_count": 1,
   "metadata": {
    "scrolled": true
   },
   "outputs": [
    {
     "name": "stderr",
     "output_type": "stream",
     "text": [
      "D:\\nouran\\programs\\Anaconda\\lib\\site-packages\\pandas\\core\\computation\\expressions.py:20: UserWarning: Pandas requires version '2.7.3' or newer of 'numexpr' (version '2.7.1' currently installed).\n",
      "  from pandas.core.computation.check import NUMEXPR_INSTALLED\n"
     ]
    }
   ],
   "source": [
    "import re\n",
    "import nltk\n",
    "import random\n",
    "import numpy as np\n",
    "import pandas as pd\n",
    "import matplotlib.pyplot as plt\n",
    "from nltk.corpus import stopwords\n",
    "from sklearn.decomposition import PCA\n",
    "from nltk.stem import WordNetLemmatizer\n",
    "from nltk.tokenize import word_tokenize\n",
    "from sklearn.metrics import mean_absolute_error\n",
    "from sklearn.ensemble import RandomForestRegressor\n",
    "from sklearn.model_selection import train_test_split\n",
    "from sentence_transformers import SentenceTransformer\n",
    "from sklearn.metrics.pairwise import cosine_similarity\n",
    "from sklearn.feature_extraction.text import TfidfVectorizer"
   ]
  },
  {
   "cell_type": "code",
   "execution_count": 2,
   "metadata": {},
   "outputs": [
    {
     "name": "stderr",
     "output_type": "stream",
     "text": [
      "[nltk_data] Downloading package stopwords to\n",
      "[nltk_data]     C:\\Users\\nouran\\AppData\\Roaming\\nltk_data...\n",
      "[nltk_data]   Package stopwords is already up-to-date!\n"
     ]
    },
    {
     "data": {
      "text/plain": [
       "True"
      ]
     },
     "execution_count": 2,
     "metadata": {},
     "output_type": "execute_result"
    }
   ],
   "source": [
    "nltk.download('stopwords')"
   ]
  },
  {
   "cell_type": "code",
   "execution_count": 3,
   "metadata": {},
   "outputs": [],
   "source": [
    "plt.rcParams['figure.figsize'] = (15,5)\n",
    "stopwords = stopwords.words('english')\n",
    "lemmatizer = WordNetLemmatizer()"
   ]
  },
  {
   "cell_type": "markdown",
   "metadata": {},
   "source": [
    "## Data Exploration\n",
    "<a id='2'><a>"
   ]
  },
  {
   "cell_type": "code",
   "execution_count": 4,
   "metadata": {},
   "outputs": [
    {
     "data": {
      "text/html": [
       "<div>\n",
       "<style scoped>\n",
       "    .dataframe tbody tr th:only-of-type {\n",
       "        vertical-align: middle;\n",
       "    }\n",
       "\n",
       "    .dataframe tbody tr th {\n",
       "        vertical-align: top;\n",
       "    }\n",
       "\n",
       "    .dataframe thead th {\n",
       "        text-align: right;\n",
       "    }\n",
       "</style>\n",
       "<table border=\"1\" class=\"dataframe\">\n",
       "  <thead>\n",
       "    <tr style=\"text-align: right;\">\n",
       "      <th></th>\n",
       "      <th>Question</th>\n",
       "      <th>Model Answer</th>\n",
       "      <th>Answer</th>\n",
       "      <th>Grade</th>\n",
       "    </tr>\n",
       "  </thead>\n",
       "  <tbody>\n",
       "    <tr>\n",
       "      <th>0</th>\n",
       "      <td>What is the role of a prototype program in pro...</td>\n",
       "      <td>To simulate the behaviour of portions of the d...</td>\n",
       "      <td>High risk problems are address in the prototyp...</td>\n",
       "      <td>3.5</td>\n",
       "    </tr>\n",
       "    <tr>\n",
       "      <th>1</th>\n",
       "      <td>What is the role of a prototype program in pro...</td>\n",
       "      <td>To simulate the behaviour of portions of the d...</td>\n",
       "      <td>A prototype program simulates the behaviors of...</td>\n",
       "      <td>4.0</td>\n",
       "    </tr>\n",
       "    <tr>\n",
       "      <th>2</th>\n",
       "      <td>What is the role of a prototype program in pro...</td>\n",
       "      <td>To simulate the behaviour of portions of the d...</td>\n",
       "      <td>It is used to let the users have a first idea ...</td>\n",
       "      <td>3.0</td>\n",
       "    </tr>\n",
       "    <tr>\n",
       "      <th>3</th>\n",
       "      <td>What is the role of a prototype program in pro...</td>\n",
       "      <td>To simulate the behaviour of portions of the d...</td>\n",
       "      <td>To find problem and errors in a program before...</td>\n",
       "      <td>2.0</td>\n",
       "    </tr>\n",
       "    <tr>\n",
       "      <th>4</th>\n",
       "      <td>What is the role of a prototype program in pro...</td>\n",
       "      <td>To simulate the behaviour of portions of the d...</td>\n",
       "      <td>To address major issues in the creation of the...</td>\n",
       "      <td>2.5</td>\n",
       "    </tr>\n",
       "    <tr>\n",
       "      <th>...</th>\n",
       "      <td>...</td>\n",
       "      <td>...</td>\n",
       "      <td>...</td>\n",
       "      <td>...</td>\n",
       "    </tr>\n",
       "    <tr>\n",
       "      <th>3641</th>\n",
       "      <td>What data structure is more appropriate for sc...</td>\n",
       "      <td>a queue otherwise some things would never be p...</td>\n",
       "      <td>a queue</td>\n",
       "      <td>5.0</td>\n",
       "    </tr>\n",
       "    <tr>\n",
       "      <th>3642</th>\n",
       "      <td>What data structure is more appropriate for sc...</td>\n",
       "      <td>a queue otherwise some things would never be p...</td>\n",
       "      <td>Queue</td>\n",
       "      <td>5.0</td>\n",
       "    </tr>\n",
       "    <tr>\n",
       "      <th>3643</th>\n",
       "      <td>What data structure is more appropriate for sc...</td>\n",
       "      <td>a queue otherwise some things would never be p...</td>\n",
       "      <td>i would say that a queue is better because the...</td>\n",
       "      <td>5.0</td>\n",
       "    </tr>\n",
       "    <tr>\n",
       "      <th>3644</th>\n",
       "      <td>What data structure is more appropriate for sc...</td>\n",
       "      <td>a queue otherwise some things would never be p...</td>\n",
       "      <td>a queue because you want the jobs to execute i...</td>\n",
       "      <td>5.0</td>\n",
       "    </tr>\n",
       "    <tr>\n",
       "      <th>3645</th>\n",
       "      <td>What data structure is more appropriate for sc...</td>\n",
       "      <td>a queue otherwise some things would never be p...</td>\n",
       "      <td>queue</td>\n",
       "      <td>5.0</td>\n",
       "    </tr>\n",
       "  </tbody>\n",
       "</table>\n",
       "<p>3646 rows × 4 columns</p>\n",
       "</div>"
      ],
      "text/plain": [
       "                                               Question  \\\n",
       "0     What is the role of a prototype program in pro...   \n",
       "1     What is the role of a prototype program in pro...   \n",
       "2     What is the role of a prototype program in pro...   \n",
       "3     What is the role of a prototype program in pro...   \n",
       "4     What is the role of a prototype program in pro...   \n",
       "...                                                 ...   \n",
       "3641  What data structure is more appropriate for sc...   \n",
       "3642  What data structure is more appropriate for sc...   \n",
       "3643  What data structure is more appropriate for sc...   \n",
       "3644  What data structure is more appropriate for sc...   \n",
       "3645  What data structure is more appropriate for sc...   \n",
       "\n",
       "                                           Model Answer  \\\n",
       "0     To simulate the behaviour of portions of the d...   \n",
       "1     To simulate the behaviour of portions of the d...   \n",
       "2     To simulate the behaviour of portions of the d...   \n",
       "3     To simulate the behaviour of portions of the d...   \n",
       "4     To simulate the behaviour of portions of the d...   \n",
       "...                                                 ...   \n",
       "3641  a queue otherwise some things would never be p...   \n",
       "3642  a queue otherwise some things would never be p...   \n",
       "3643  a queue otherwise some things would never be p...   \n",
       "3644  a queue otherwise some things would never be p...   \n",
       "3645  a queue otherwise some things would never be p...   \n",
       "\n",
       "                                                 Answer  Grade  \n",
       "0     High risk problems are address in the prototyp...    3.5  \n",
       "1     A prototype program simulates the behaviors of...    4.0  \n",
       "2     It is used to let the users have a first idea ...    3.0  \n",
       "3     To find problem and errors in a program before...    2.0  \n",
       "4     To address major issues in the creation of the...    2.5  \n",
       "...                                                 ...    ...  \n",
       "3641                                            a queue    5.0  \n",
       "3642                                              Queue    5.0  \n",
       "3643  i would say that a queue is better because the...    5.0  \n",
       "3644  a queue because you want the jobs to execute i...    5.0  \n",
       "3645                                              queue    5.0  \n",
       "\n",
       "[3646 rows x 4 columns]"
      ]
     },
     "execution_count": 4,
     "metadata": {},
     "output_type": "execute_result"
    }
   ],
   "source": [
    "# Read the dataset\n",
    "dataset = pd.read_table(\"Texas2011.txt\", header = None, names = [\"Question\", \"Model Answer\", \"Answer\", \"Grade\"])\n",
    "dataset"
   ]
  },
  {
   "cell_type": "code",
   "execution_count": 5,
   "metadata": {},
   "outputs": [
    {
     "name": "stdout",
     "output_type": "stream",
     "text": [
      "424 -  A leaf is a node with no children\n",
      "1369 -  if the node is a leaf it can simply be deallocated or deleted from memory and its parent reference to it changed to NULL If the node has a single child the pointer to it should be made to point to its child before deleting the node Should the node have two children the easiest solution may be to copy the node entire subtree to a new array or tree delete the node and all descendants then add the elements taken from the subtree back into the main tree\n",
      "1650 -  A function prototype just specifies parameters A function definition includes parameters and a code body\n",
      "2394 -  It starts with the second element and checks it to see if it is less than the element - LRB - s - RRB - to the left of it and if it is it inserts it into its corrected position\n",
      "25 -  To address major issues in the creation of the program There is no way to account for all possible bugs in the program but it is possible to prove the program is tangible\n"
     ]
    }
   ],
   "source": [
    "# Print random examples from the dataset to investigate the answers\n",
    "indices = random.sample(range(0,3646), 5)\n",
    "for idx in indices:\n",
    "    print(idx, \"- \", dataset['Answer'][idx])"
   ]
  },
  {
   "cell_type": "code",
   "execution_count": 6,
   "metadata": {},
   "outputs": [
    {
     "data": {
      "text/html": [
       "<div>\n",
       "<style scoped>\n",
       "    .dataframe tbody tr th:only-of-type {\n",
       "        vertical-align: middle;\n",
       "    }\n",
       "\n",
       "    .dataframe tbody tr th {\n",
       "        vertical-align: top;\n",
       "    }\n",
       "\n",
       "    .dataframe thead th {\n",
       "        text-align: right;\n",
       "    }\n",
       "</style>\n",
       "<table border=\"1\" class=\"dataframe\">\n",
       "  <thead>\n",
       "    <tr style=\"text-align: right;\">\n",
       "      <th></th>\n",
       "      <th>Question</th>\n",
       "      <th>Model Answer</th>\n",
       "      <th>Answer</th>\n",
       "      <th>Grade</th>\n",
       "    </tr>\n",
       "  </thead>\n",
       "  <tbody>\n",
       "    <tr>\n",
       "      <th>424</th>\n",
       "      <td>What is a leaf</td>\n",
       "      <td>A leaf is a child of a parent node that has no...</td>\n",
       "      <td>A leaf is a node with no children</td>\n",
       "      <td>5.0</td>\n",
       "    </tr>\n",
       "    <tr>\n",
       "      <th>1369</th>\n",
       "      <td>How do you delete a node from a binary search ...</td>\n",
       "      <td>Find the node then replace it with the leftmos...</td>\n",
       "      <td>if the node is a leaf it can simply be dealloc...</td>\n",
       "      <td>4.5</td>\n",
       "    </tr>\n",
       "    <tr>\n",
       "      <th>1650</th>\n",
       "      <td>What is the difference between a function prot...</td>\n",
       "      <td>A function prototype includes the function sig...</td>\n",
       "      <td>A function prototype just specifies parameters...</td>\n",
       "      <td>4.0</td>\n",
       "    </tr>\n",
       "    <tr>\n",
       "      <th>2394</th>\n",
       "      <td>In one sentence what is the main idea implemen...</td>\n",
       "      <td>Insertion sort divides the list into sorted an...</td>\n",
       "      <td>It starts with the second element and checks i...</td>\n",
       "      <td>5.0</td>\n",
       "    </tr>\n",
       "    <tr>\n",
       "      <th>25</th>\n",
       "      <td>What is the role of a prototype program in pro...</td>\n",
       "      <td>To simulate portions of the desired final prod...</td>\n",
       "      <td>To address major issues in the creation of the...</td>\n",
       "      <td>2.5</td>\n",
       "    </tr>\n",
       "  </tbody>\n",
       "</table>\n",
       "</div>"
      ],
      "text/plain": [
       "                                               Question  \\\n",
       "424                                      What is a leaf   \n",
       "1369  How do you delete a node from a binary search ...   \n",
       "1650  What is the difference between a function prot...   \n",
       "2394  In one sentence what is the main idea implemen...   \n",
       "25    What is the role of a prototype program in pro...   \n",
       "\n",
       "                                           Model Answer  \\\n",
       "424   A leaf is a child of a parent node that has no...   \n",
       "1369  Find the node then replace it with the leftmos...   \n",
       "1650  A function prototype includes the function sig...   \n",
       "2394  Insertion sort divides the list into sorted an...   \n",
       "25    To simulate portions of the desired final prod...   \n",
       "\n",
       "                                                 Answer  Grade  \n",
       "424                   A leaf is a node with no children    5.0  \n",
       "1369  if the node is a leaf it can simply be dealloc...    4.5  \n",
       "1650  A function prototype just specifies parameters...    4.0  \n",
       "2394  It starts with the second element and checks i...    5.0  \n",
       "25    To address major issues in the creation of the...    2.5  "
      ]
     },
     "execution_count": 6,
     "metadata": {},
     "output_type": "execute_result"
    }
   ],
   "source": [
    "dataset.iloc[indices]"
   ]
  },
  {
   "cell_type": "code",
   "execution_count": 7,
   "metadata": {},
   "outputs": [
    {
     "data": {
      "text/html": [
       "<div>\n",
       "<style scoped>\n",
       "    .dataframe tbody tr th:only-of-type {\n",
       "        vertical-align: middle;\n",
       "    }\n",
       "\n",
       "    .dataframe tbody tr th {\n",
       "        vertical-align: top;\n",
       "    }\n",
       "\n",
       "    .dataframe thead th {\n",
       "        text-align: right;\n",
       "    }\n",
       "</style>\n",
       "<table border=\"1\" class=\"dataframe\">\n",
       "  <thead>\n",
       "    <tr style=\"text-align: right;\">\n",
       "      <th></th>\n",
       "      <th></th>\n",
       "      <th>Count</th>\n",
       "    </tr>\n",
       "    <tr>\n",
       "      <th>Question</th>\n",
       "      <th>Question</th>\n",
       "      <th></th>\n",
       "    </tr>\n",
       "  </thead>\n",
       "  <tbody>\n",
       "    <tr>\n",
       "      <th>What is the role of a prototype program in problem solving</th>\n",
       "      <th>What is the role of a prototype program in problem solving</th>\n",
       "      <td>48</td>\n",
       "    </tr>\n",
       "    <tr>\n",
       "      <th>What stages in the software life cycle are influenced by the testing stage</th>\n",
       "      <th>What stages in the software life cycle are influenced by the testing stage</th>\n",
       "      <td>55</td>\n",
       "    </tr>\n",
       "    <tr>\n",
       "      <th>What are the main advantages associated with object - oriented programming</th>\n",
       "      <th>What are the main advantages associated with object - oriented programming</th>\n",
       "      <td>54</td>\n",
       "    </tr>\n",
       "    <tr>\n",
       "      <th>Where do C plus plus programs begin to execute</th>\n",
       "      <th>Where do C plus plus programs begin to execute</th>\n",
       "      <td>31</td>\n",
       "    </tr>\n",
       "    <tr>\n",
       "      <th>What is a variable</th>\n",
       "      <th>What is a variable</th>\n",
       "      <td>42</td>\n",
       "    </tr>\n",
       "    <tr>\n",
       "      <th>...</th>\n",
       "      <th>...</th>\n",
       "      <td>...</td>\n",
       "    </tr>\n",
       "    <tr>\n",
       "      <th>How can you implement a queue with an array</th>\n",
       "      <th>How can you implement a queue with an array</th>\n",
       "      <td>49</td>\n",
       "    </tr>\n",
       "    <tr>\n",
       "      <th>How can you implement a queue with a list</th>\n",
       "      <th>How can you implement a queue with a list</th>\n",
       "      <td>48</td>\n",
       "    </tr>\n",
       "    <tr>\n",
       "      <th>Which implementation - LRB - array - based vs list - based - RRB - is preferred for a queue and why</th>\n",
       "      <th>Which implementation - LRB - array - based vs list - based - RRB - is preferred for a queue and why</th>\n",
       "      <td>35</td>\n",
       "    </tr>\n",
       "    <tr>\n",
       "      <th>What is the stack operation corresponding to the enqueue operation in queues</th>\n",
       "      <th>What is the stack operation corresponding to the enqueue operation in queues</th>\n",
       "      <td>31</td>\n",
       "    </tr>\n",
       "    <tr>\n",
       "      <th>What data structure is more appropriate for scheduling printing jobs at a printer a stack or a queue</th>\n",
       "      <th>What data structure is more appropriate for scheduling printing jobs at a printer a stack or a queue</th>\n",
       "      <td>28</td>\n",
       "    </tr>\n",
       "  </tbody>\n",
       "</table>\n",
       "<p>85 rows × 1 columns</p>\n",
       "</div>"
      ],
      "text/plain": [
       "                                                                                                       Count\n",
       "Question                                           Question                                                 \n",
       "What is the role of a prototype program in prob... What is the role of a prototype program in prob...     48\n",
       "What stages in the software life cycle are infl... What stages in the software life cycle are infl...     55\n",
       "What are the main advantages associated with ob... What are the main advantages associated with ob...     54\n",
       "Where do C plus plus programs begin to execute     Where do C plus plus programs begin to execute         31\n",
       "What is a variable                                 What is a variable                                     42\n",
       "...                                                                                                      ...\n",
       "How can you implement a queue with an array        How can you implement a queue with an array            49\n",
       "How can you implement a queue with a list          How can you implement a queue with a list              48\n",
       "Which implementation - LRB - array - based vs l... Which implementation - LRB - array - based vs l...     35\n",
       "What is the stack operation corresponding to th... What is the stack operation corresponding to th...     31\n",
       "What data structure is more appropriate for sch... What data structure is more appropriate for sch...     28\n",
       "\n",
       "[85 rows x 1 columns]"
      ]
     },
     "execution_count": 7,
     "metadata": {},
     "output_type": "execute_result"
    }
   ],
   "source": [
    "# Get the unique questions and their count to decide on how to split the data\n",
    "Question_counts = dataset.groupby('Question', sort=False)['Question'].value_counts().to_frame(name='Count')\n",
    "Qs_counts = Question_counts['Count'].to_numpy()\n",
    "Question_counts"
   ]
  },
  {
   "cell_type": "code",
   "execution_count": 8,
   "metadata": {},
   "outputs": [
    {
     "data": {
      "text/plain": [
       "5.000    1238\n",
       "4.500     620\n",
       "4.000     440\n",
       "3.500     374\n",
       "3.000     328\n",
       "2.500     250\n",
       "2.000     186\n",
       "1.500      92\n",
       "0.000      48\n",
       "1.000      46\n",
       "0.500       6\n",
       "4.125       4\n",
       "2.250       4\n",
       "3.750       2\n",
       "1.750       2\n",
       "3.625       2\n",
       "3.250       2\n",
       "4.750       2\n",
       "Name: Grade, dtype: int64"
      ]
     },
     "execution_count": 8,
     "metadata": {},
     "output_type": "execute_result"
    }
   ],
   "source": [
    "# Investigate the range of scores\n",
    "# There is obvious imbalance, and some scores are very rare\n",
    "dataset['Grade'].value_counts()"
   ]
  },
  {
   "cell_type": "markdown",
   "metadata": {},
   "source": [
    "## Data Preparation\n",
    "<a id='3'><a>"
   ]
  },
  {
   "cell_type": "markdown",
   "metadata": {},
   "source": [
    "### From the data exploration phase, it was concluded that:\n",
    "- The text may hold non alphanumeric characters, Ex: '-'. Therefore, all text need to be cleaned from them\n",
    "- The text may hold capital letters. Therefore, all text is converted to lowercase\n",
    "- There are 85 unique questions, where each questions is repeated with different students' answers. The questions will be shuffled before spltting into train and test set"
   ]
  },
  {
   "cell_type": "code",
   "execution_count": 9,
   "metadata": {},
   "outputs": [],
   "source": [
    "# pattern to remove all characters except for alphanumeric ones and whitespace\n",
    "clean_pattern = re.compile(r'[^a-zA-Z0-9\\s]')\n",
    "\n",
    "def clean_text(text):\n",
    "    \n",
    "    '''\n",
    "    Clean text from all characters except alphanumeric characters and whitespace and convert to lower case\n",
    "    \n",
    "    Args: \n",
    "    text(str): sentence to be cleaned \n",
    "    \n",
    "    Return: \n",
    "    text(str): cleaned sentence\n",
    "    '''\n",
    "    \n",
    "    text = text.lower()\n",
    "    text = re.sub(clean_pattern, ' ', text)\n",
    "    return text"
   ]
  },
  {
   "cell_type": "code",
   "execution_count": 10,
   "metadata": {},
   "outputs": [
    {
     "data": {
      "text/html": [
       "<div>\n",
       "<style scoped>\n",
       "    .dataframe tbody tr th:only-of-type {\n",
       "        vertical-align: middle;\n",
       "    }\n",
       "\n",
       "    .dataframe tbody tr th {\n",
       "        vertical-align: top;\n",
       "    }\n",
       "\n",
       "    .dataframe thead th {\n",
       "        text-align: right;\n",
       "    }\n",
       "</style>\n",
       "<table border=\"1\" class=\"dataframe\">\n",
       "  <thead>\n",
       "    <tr style=\"text-align: right;\">\n",
       "      <th></th>\n",
       "      <th>Question</th>\n",
       "      <th>Model Answer</th>\n",
       "      <th>Answer</th>\n",
       "      <th>Grade</th>\n",
       "    </tr>\n",
       "  </thead>\n",
       "  <tbody>\n",
       "    <tr>\n",
       "      <th>424</th>\n",
       "      <td>what is a leaf</td>\n",
       "      <td>a leaf is a child of a parent node that has no...</td>\n",
       "      <td>a leaf is a node with no children</td>\n",
       "      <td>5.0</td>\n",
       "    </tr>\n",
       "    <tr>\n",
       "      <th>1369</th>\n",
       "      <td>how do you delete a node from a binary search ...</td>\n",
       "      <td>find the node then replace it with the leftmos...</td>\n",
       "      <td>if the node is a leaf it can simply be dealloc...</td>\n",
       "      <td>4.5</td>\n",
       "    </tr>\n",
       "    <tr>\n",
       "      <th>1650</th>\n",
       "      <td>what is the difference between a function prot...</td>\n",
       "      <td>a function prototype includes the function sig...</td>\n",
       "      <td>a function prototype just specifies parameters...</td>\n",
       "      <td>4.0</td>\n",
       "    </tr>\n",
       "    <tr>\n",
       "      <th>2394</th>\n",
       "      <td>in one sentence what is the main idea implemen...</td>\n",
       "      <td>insertion sort divides the list into sorted an...</td>\n",
       "      <td>it starts with the second element and checks i...</td>\n",
       "      <td>5.0</td>\n",
       "    </tr>\n",
       "    <tr>\n",
       "      <th>25</th>\n",
       "      <td>what is the role of a prototype program in pro...</td>\n",
       "      <td>to simulate portions of the desired final prod...</td>\n",
       "      <td>to address major issues in the creation of the...</td>\n",
       "      <td>2.5</td>\n",
       "    </tr>\n",
       "  </tbody>\n",
       "</table>\n",
       "</div>"
      ],
      "text/plain": [
       "                                               Question  \\\n",
       "424                                      what is a leaf   \n",
       "1369  how do you delete a node from a binary search ...   \n",
       "1650  what is the difference between a function prot...   \n",
       "2394  in one sentence what is the main idea implemen...   \n",
       "25    what is the role of a prototype program in pro...   \n",
       "\n",
       "                                           Model Answer  \\\n",
       "424   a leaf is a child of a parent node that has no...   \n",
       "1369  find the node then replace it with the leftmos...   \n",
       "1650  a function prototype includes the function sig...   \n",
       "2394  insertion sort divides the list into sorted an...   \n",
       "25    to simulate portions of the desired final prod...   \n",
       "\n",
       "                                                 Answer  Grade  \n",
       "424                   a leaf is a node with no children    5.0  \n",
       "1369  if the node is a leaf it can simply be dealloc...    4.5  \n",
       "1650  a function prototype just specifies parameters...    4.0  \n",
       "2394  it starts with the second element and checks i...    5.0  \n",
       "25    to address major issues in the creation of the...    2.5  "
      ]
     },
     "execution_count": 10,
     "metadata": {},
     "output_type": "execute_result"
    }
   ],
   "source": [
    "# Clean the text in the dataset\n",
    "dataset[\"Question\"] = dataset[\"Question\"].apply(clean_text)\n",
    "dataset[\"Model Answer\"] = dataset[\"Model Answer\"].apply(clean_text)\n",
    "dataset[\"Answer\"] = dataset[\"Answer\"].apply(clean_text)\n",
    "\n",
    "dataset.iloc[indices]"
   ]
  },
  {
   "cell_type": "code",
   "execution_count": 11,
   "metadata": {},
   "outputs": [],
   "source": [
    "# Take 400 rows for test and the rest for train\n",
    "Qs_train, Qs_test, model_ans_train, model_ans_test,  ans_train, ans_test, grade_train, grade_test = train_test_split(\n",
    "                                        dataset['Question'].to_numpy(),                                       \n",
    "                                        dataset['Model Answer'].to_numpy(), \n",
    "                                        dataset['Answer'].to_numpy(), \n",
    "                                        dataset['Grade'].to_numpy(),\n",
    "                                        random_state=0, test_size=400, shuffle=True)"
   ]
  },
  {
   "cell_type": "code",
   "execution_count": 12,
   "metadata": {},
   "outputs": [
    {
     "data": {
      "text/plain": [
       "((3246,), (3246,), (3246,), (3246,))"
      ]
     },
     "execution_count": 12,
     "metadata": {},
     "output_type": "execute_result"
    }
   ],
   "source": [
    "Qs_train.shape, model_ans_train.shape, ans_train.shape, grade_train.shape"
   ]
  },
  {
   "cell_type": "code",
   "execution_count": 13,
   "metadata": {},
   "outputs": [
    {
     "data": {
      "text/plain": [
       "('what does a function signature include', 'what is a binary tree')"
      ]
     },
     "execution_count": 13,
     "metadata": {},
     "output_type": "execute_result"
    }
   ],
   "source": [
    "Qs_train[0], Qs_test[0]"
   ]
  },
  {
   "cell_type": "code",
   "execution_count": 14,
   "metadata": {},
   "outputs": [
    {
     "data": {
      "text/plain": [
       "Text(0.5, 1.0, 'Test grades')"
      ]
     },
     "execution_count": 14,
     "metadata": {},
     "output_type": "execute_result"
    },
    {
     "data": {
      "image/png": "[encoded data removed]",
      "text/plain": [
       "<Figure size 1080x360 with 2 Axes>"
      ]
     },
     "metadata": {
      "needs_background": "light"
     },
     "output_type": "display_data"
    }
   ],
   "source": [
    "plt.subplot(121)\n",
    "plt.hist(grade_train)\n",
    "plt.title('Train grades')\n",
    "\n",
    "plt.subplot(122)\n",
    "plt.hist(grade_test)\n",
    "plt.title('Test grades')"
   ]
  },
  {
   "cell_type": "markdown",
   "metadata": {},
   "source": [
    "## Feature Extraction\n",
    "<a id='4'><a>"
   ]
  },
  {
   "cell_type": "markdown",
   "metadata": {},
   "source": [
    "### Different features were extracted and fed to a RandomForest Regressor\n",
    "### It is performed on train and test sets\n",
    "\n",
    "- Sentence embeddings for Questions, Model Answers(if exists) and Answers using SentenceBert\n",
    "- Get the cosine similairty between the model answer(if exists) and answer embeddings\n",
    "- Use PCA to decrease dimensionality of embeddings \n",
    "- Get words overlapped (number of common words) between the model answer(if exists) and the answer\n",
    "- In case context only is available and not model answers, TF_IDF features are extracted for context and answers"
   ]
  },
  {
   "cell_type": "code",
   "execution_count": 15,
   "metadata": {},
   "outputs": [],
   "source": [
    "# Load the SentenceBert model\n",
    "sbert_model = SentenceTransformer('bert-base-nli-mean-tokens')"
   ]
  },
  {
   "cell_type": "code",
   "execution_count": 16,
   "metadata": {},
   "outputs": [],
   "source": [
    "def get_embeddings(sentences_list):\n",
    "    \n",
    "    '''\n",
    "    Get sentence embeddings of the each sentence in the list using SBert\n",
    "    \n",
    "    Args: \n",
    "    sentences_list(ndarray): sentences to be embedded\n",
    "    \n",
    "    Return: \n",
    "    embeddings(ndarray): embeddings from SBert\n",
    "    '''\n",
    "    \n",
    "    embeddings = sbert_model.encode(sentences_list)\n",
    "    return embeddings\n",
    "\n",
    "def get_word_overlap(sentences_list1, sentences_list2):\n",
    "    \n",
    "    '''\n",
    "    Get the number of common words between each 2 pair of corresponding sentences in the lists\n",
    "    \n",
    "    Args: \n",
    "    sentences_list1(ndarray), sentences_list2(ndarray): 2 lists holding pairs of sentences\n",
    "    \n",
    "    Return: \n",
    "    overlap_list(ndarray): the number of common words between all sentences\n",
    "    '''\n",
    "    \n",
    "    overlap_list = []\n",
    "    for sent1, sent2 in zip(sentences_list1, sentences_list2):\n",
    "        tokens1 = word_tokenize(sent1)\n",
    "        tokens2 = word_tokenize(sent2)\n",
    "        tokens1 =  set([lemmatizer.lemmatize(word) for word in tokens1 if word not in stopwords])\n",
    "        tokens2 =  set([lemmatizer.lemmatize(word) for word in tokens2 if word not in stopwords])\n",
    "        \n",
    "        overlap = len(tokens1.intersection(tokens2))\n",
    "        overlap_list.append(overlap)\n",
    "    return (np.array(overlap_list))[..., np.newaxis]\n",
    "\n",
    "def cosine_sim(vectors_list1, vectors_list2):\n",
    "    \n",
    "    '''\n",
    "    Calculate cosine similarity between each 2 pair of corresponding vectors in the list\n",
    "    \n",
    "    Args: \n",
    "    vectors_list1(ndarray), vectors_list2(ndarray): 2 lists holding pairs of vectors\n",
    "    \n",
    "    Return: \n",
    "    similarity_matrix(ndarray): the cosine similairty between the vectors - str\n",
    "    '''\n",
    "    \n",
    "    similarity_matrix = cosine_similarity(vectors_list1, vectors_list2)\n",
    "    return np.diag(similarity_matrix)[..., np.newaxis]"
   ]
  },
  {
   "cell_type": "code",
   "execution_count": 17,
   "metadata": {},
   "outputs": [],
   "source": [
    "def feature_extraction(Qs_train, model_ans_train, ans_train, \n",
    "                       Qs_test, model_ans_test, ans_test, \n",
    "                       do_pca=False, n_pca_comp=100, model_ans_exists=True, context=None, tf_idf_max_features=50):\n",
    "    \n",
    "    '''\n",
    "    Do feature extraction to prepare the train and test features for the model\n",
    "    Features extracted: \n",
    "    - Sentence embeddings using SBert for questions, model answers(if exists) and answers\n",
    "    - cosine similarity between model answer(if exists) and answer embeddings\n",
    "    - Number of common words between model answer(if exists) and answer\n",
    "    \n",
    "    Args: \n",
    "    Qs_train(ndarray):         list of train questions \n",
    "    model_ans_train(ndarray):  list of train model answers\n",
    "    ans_train(ndarray):        list of train answers\n",
    "    Qs_test(ndarray):          list of test questions\n",
    "    model_ans_test(ndarray):   list of test model answers\n",
    "    ans_test(ndarray):         list of test answers\n",
    "    do_pca(boolean):           apply PCA to embeddings to reduce their dimension\n",
    "    n_pca_comp(int):           number of principal components to keep for PCA\n",
    "    model_ans_exists(boolean): if the model asnwers are given or not, if not, context is expected to be given\n",
    "    context(str):              context about the exam/interview\n",
    "    \n",
    "    Return: \n",
    "    train_features(ndarray): array of concatenated train features\n",
    "    test_features(ndarray):  array of concatenated train features\n",
    "    pca_variance(float):     amount of variance captured in the reduced embeddings\n",
    "    '''\n",
    "    \n",
    "    # Get embeddings\n",
    "    Qs_train_embedd = get_embeddings(Qs_train)\n",
    "    ans_train_embedd = get_embeddings(ans_train)\n",
    "    \n",
    "    Qs_test_embedd = get_embeddings(Qs_test)\n",
    "    ans_test_embedd = get_embeddings(ans_test)\n",
    "    \n",
    "    if model_ans_exists:\n",
    "        # Get model answers embeddings\n",
    "        model_ans_train_embedd = get_embeddings(model_ans_train)\n",
    "        model_ans_test_embedd = get_embeddings(model_ans_test)\n",
    "    \n",
    "        # Get cosine similairty\n",
    "        cos_sim_train = cosine_sim(model_ans_train_embedd, ans_train_embedd)\n",
    "        cos_sim_test = cosine_sim(model_ans_test_embedd, ans_test_embedd)\n",
    "        \n",
    "        # Get the number of common words between the model answer and the student's answer    \n",
    "        overlap_train = get_word_overlap(model_ans_train, ans_train)\n",
    "        overlap_test = get_word_overlap(model_ans_test, ans_test)\n",
    "    \n",
    "    else:\n",
    "        # Use TF_IDF to extract important keywords from context after removing the stopwords\n",
    "        context = clean_text(context)\n",
    "        cleaned_context = []\n",
    "        for word in word_tokenize(context):\n",
    "            if word not in stopwords:\n",
    "                cleaned_context.append(word)\n",
    "                \n",
    "        cleaned_context = \"\".join(cleaned_context)\n",
    "        tfidf_vectorizer = TfidfVectorizer(max_features = tf_idf_max_features)\n",
    "        context_tfidf = tfidf_vectorizer.fit_transform([context])\n",
    "        ans_tfidf_train = tfidf_vectorizer.transform(ans_train)\n",
    "        ans_tfidf_test = tfidf_vectorizer.transform(ans_test)\n",
    "    \n",
    "    # If PCA is True, perform dimensionality reduction\n",
    "    if do_pca:\n",
    "        pca = PCA(n_components = n_pca_comp)\n",
    "        Qs_train_embedd = pca.fit_transform(Qs_train_embedd)\n",
    "        Qs_test_embedd = pca.transform(Qs_test_embedd)\n",
    "        \n",
    "        ans_train_embedd = pca.fit_transform(ans_train_embedd)\n",
    "        ans_test_embedd = pca.transform(ans_test_embedd)\n",
    "        \n",
    "        if model_ans_exists:\n",
    "            model_ans_train_embedd = pca.fit_transform(model_ans_train_embedd)\n",
    "            model_ans_test_embedd = pca.transform(model_ans_test_embedd)\n",
    "\n",
    "        pca_variance = (pca.explained_variance_ratio_).sum()\n",
    "\n",
    "    \n",
    "    if model_ans_exists:\n",
    "        train_features_tuple = (overlap_train, cos_sim_train, Qs_train_embedd, model_ans_train_embedd, ans_train_embedd)\n",
    "        test_features_tuple = (overlap_test, cos_sim_test, Qs_test_embedd, model_ans_test_embedd, ans_test_embedd)\n",
    "    else:\n",
    "        train_features_tuple = (context_tfidf, ans_tfidf_train, Qs_train_embedd, ans_train_embedd)\n",
    "        test_features_tuple = (context_tfidf, ans_tfidf_test, Qs_test_embedd, ans_test_embedd)\n",
    "\n",
    "        \n",
    "    # Concatenate all features into one array, for train and test\n",
    "    train_features = np.concatenate(train_features_tuple, axis=-1)\n",
    "    test_features = np.concatenate(test_features_tuple, axis=-1)\n",
    "        \n",
    "    return train_features, test_features, pca_variance"
   ]
  },
  {
   "cell_type": "code",
   "execution_count": 18,
   "metadata": {},
   "outputs": [],
   "source": [
    "do_pca = True\n",
    "n_pca_comp = 100\n",
    "model_ans_exists = True\n",
    "x_train, x_test, pca_var = feature_extraction(Qs_train, model_ans_train, ans_train,\n",
    "                                              Qs_test, model_ans_test, ans_test, \n",
    "                                              do_pca, n_pca_comp, model_ans_exists)"
   ]
  },
  {
   "cell_type": "code",
   "execution_count": 19,
   "metadata": {},
   "outputs": [
    {
     "name": "stdout",
     "output_type": "stream",
     "text": [
      "Train features shape:  (3246, 302)\n",
      "Test features shape:  (400, 302)\n",
      "PCA total variance captured using 100 is 98.37%\n"
     ]
    }
   ],
   "source": [
    "print(\"Train features shape: \", x_train.shape)\n",
    "print(\"Test features shape: \", x_test.shape)\n",
    "if do_pca:\n",
    "    print(f\"PCA total variance captured using {n_pca_comp} is {pca_var*100:.2f}%\")"
   ]
  },
  {
   "cell_type": "markdown",
   "metadata": {},
   "source": [
    "## Score Prediction\n",
    "<a id='5'><a>"
   ]
  },
  {
   "cell_type": "code",
   "execution_count": 20,
   "metadata": {},
   "outputs": [],
   "source": [
    "# Instantiating a RandomForest Regressor model\n",
    "random_forest = RandomForestRegressor(n_estimators=50, max_depth=15, random_state=0)"
   ]
  },
  {
   "cell_type": "code",
   "execution_count": 21,
   "metadata": {},
   "outputs": [
    {
     "name": "stdout",
     "output_type": "stream",
     "text": [
      "Train MAE:  0.2110751694393099\n",
      "Test MAE:  0.49079999999999996\n"
     ]
    }
   ],
   "source": [
    "# Fit the model\n",
    "random_forest.fit(x_train, grade_train)\n",
    "\n",
    "# Predict on train and test set to explore if the model is overfitting, underfitting or just good\n",
    "random_forest_preds_train = np.round(random_forest.predict(x_train), decimals=2)\n",
    "random_forest_preds_test = np.round(random_forest.predict(x_test), decimals=2)\n",
    "\n",
    "print(\"Train MAE: \", mean_absolute_error(grade_train, random_forest_preds_train))\n",
    "print(\"Test MAE: \", mean_absolute_error(grade_test, random_forest_preds_test))"
   ]
  },
  {
   "cell_type": "code",
   "execution_count": 22,
   "metadata": {},
   "outputs": [
    {
     "data": {
      "text/plain": [
       "Text(0.5, 1.0, 'Predicted grades distribution')"
      ]
     },
     "execution_count": 22,
     "metadata": {},
     "output_type": "execute_result"
    },
    {
     "data": {
      "image/png": "[encoded data removed]",
      "text/plain": [
       "<Figure size 1080x360 with 2 Axes>"
      ]
     },
     "metadata": {
      "needs_background": "light"
     },
     "output_type": "display_data"
    }
   ],
   "source": [
    "plt.subplot(121)\n",
    "plt.hist(grade_test)\n",
    "plt.title('Test grades distribution')\n",
    "\n",
    "plt.subplot(122)\n",
    "plt.hist(random_forest_preds_test)\n",
    "plt.title('Predicted grades distribution')"
   ]
  },
  {
   "cell_type": "code",
   "execution_count": 23,
   "metadata": {},
   "outputs": [
    {
     "data": {
      "text/plain": [
       "Text(0.5, 1.0, 'Test absolute error')"
      ]
     },
     "execution_count": 23,
     "metadata": {},
     "output_type": "execute_result"
    },
    {
     "data": {
      "image/png": "[encoded data removed]",
      "text/plain": [
       "<Figure size 1080x360 with 2 Axes>"
      ]
     },
     "metadata": {
      "needs_background": "light"
     },
     "output_type": "display_data"
    }
   ],
   "source": [
    "# Draw boxplot for absolute error of all prediction\n",
    "test_abs_error = abs(random_forest_preds_test - grade_test)\n",
    "train_abs_error = abs(random_forest_preds_train - grade_train)\n",
    "\n",
    "plt.subplot(121)\n",
    "plt.boxplot(train_abs_error)\n",
    "plt.title('Train absolute error')\n",
    "\n",
    "plt.subplot(122)\n",
    "plt.boxplot(test_abs_error)\n",
    "plt.title('Test absolute error')"
   ]
  },
  {
   "cell_type": "code",
   "execution_count": 24,
   "metadata": {},
   "outputs": [
    {
     "name": "stdout",
     "output_type": "stream",
     "text": [
      "Test   Predicted\n",
      "4.0       4.64\n",
      "1.5       3.82\n",
      "3.0       3.53\n",
      "5.0       4.61\n",
      "3.0       4.2\n",
      "4.0       3.0\n",
      "4.0       3.69\n",
      "5.0       4.45\n",
      "5.0       4.84\n",
      "4.5       4.92\n"
     ]
    }
   ],
   "source": [
    "rand_idxs = random.sample(range(0,len(grade_test)), 10)\n",
    "print(\"Test   Predicted\")\n",
    "for i in rand_idxs:\n",
    "    print(grade_test[i], \"     \", random_forest_preds_test[i])"
   ]
  }
 ],
 "metadata": {
  "kernelspec": {
   "display_name": "Python 3",
   "language": "python",
   "name": "python3"
  },
  "language_info": {
   "codemirror_mode": {
    "name": "ipython",
    "version": 3
   },
   "file_extension": ".py",
   "mimetype": "text/x-python",
   "name": "python",
   "nbconvert_exporter": "python",
   "pygments_lexer": "ipython3",
   "version": "3.8.3"
  }
 },
 "nbformat": 4,
 "nbformat_minor": 4
}
